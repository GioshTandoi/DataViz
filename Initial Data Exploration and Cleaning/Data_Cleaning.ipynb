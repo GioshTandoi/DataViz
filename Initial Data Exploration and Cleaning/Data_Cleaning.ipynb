{
 "cells": [
  {
   "cell_type": "code",
   "execution_count": 1,
   "metadata": {},
   "outputs": [
    {
     "name": "stderr",
     "output_type": "stream",
     "text": [
      "/Users/giorgia/.pyenv/versions/3.7.8/lib/python3.7/site-packages/pandas/compat/__init__.py:120: UserWarning: Could not import the lzma module. Your installed Python is incomplete. Attempting to use lzma compression will result in a RuntimeError.\n",
      "  warnings.warn(msg)\n"
     ]
    }
   ],
   "source": [
    "import pandas as pd\n",
    "import numpy as np\n",
    "\n",
    "pd.options.display.max_rows = 389"
   ]
  },
  {
   "cell_type": "code",
   "execution_count": 2,
   "metadata": {},
   "outputs": [],
   "source": [
    "MEASURES = [\n",
    "    \"c1_school_closing\",\n",
    "    \"c2_workplace_closing\",\n",
    "    \"c3_cancel_public_events\",\n",
    "    \"c4_restrictions_on_gatherings\",\n",
    "    \"c5_close_public_transport\",\n",
    "    \"c6_stay_at_home_requirements\",\n",
    "    \"c7_movement_restriction\",\n",
    "    \"c8_international_travel\",\n",
    "    \"h1_public_information_campaigns\",\n",
    "    \"h2_testing_policy\",\n",
    "    \"h3_contact_tracing\",\n",
    "    \"h6_facial_coverings\",\n",
    "    \"h7_vaccination_policy\",\n",
    "    \"h8_protection_of_elderly_people\",\n",
    "]\n",
    "\n",
    "def get_daily_cases(data, col_name='series_1'):\n",
    "    series = data.copy()\n",
    "    series = series.groupby(by='Date_statistics').count()\n",
    "    series = series.rename(columns={'Date_file': col_name})\n",
    "    return series[col_name]\n",
    "\n",
    "\n",
    "def make_measures_0_1(column, max_level):\n",
    "    column=np.where(column==max_level,column, 0)\n",
    "    column=np.where(column==0,column, 1)\n",
    "    return column\n",
    "\n",
    "\n",
    "def get_measure_dates_dict(df):\n",
    "    measure_dates = {}\n",
    "\n",
    "    for measure in MEASURES: \n",
    "        measure_dates[measure] = {}\n",
    "        for level in np.sort(daily_data[measure].unique()):\n",
    "            if level ==0: \n",
    "                continue\n",
    "            else: \n",
    "                measure_level = pd.DataFrame()\n",
    "                measure_level[measure]=make_measures_0_1(daily_data[measure], level)\n",
    "                measure_level['Date_statistics']=daily_data['Date_statistics']\n",
    "                measure_dates[measure][level] = find_start_end_dates(measure, measure_level)\n",
    "    return measure_dates\n",
    "\n",
    "\n",
    "def find_start_end_dates(measure,df):\n",
    "    dates=[]\n",
    "    for elem in range(len(df[measure])-1):\n",
    "        if  df[measure][elem]!=df[measure][elem+1]:\n",
    "            dates.append(df['Date_statistics'][elem])\n",
    "    if len(dates)%2==1:\n",
    "        dates.append(pd.to_datetime('2021-02-16 00:00:00'))\n",
    "    return dates\n",
    "\n",
    "\n",
    "def get_plot_area_dict(dates, measure, color):\n",
    "    return dict(\n",
    "        type=\"rect\",\n",
    "        x0=dates[0],\n",
    "        x1=dates[1],\n",
    "        y0=0,\n",
    "        y1=3000,\n",
    "        fillcolor=color,\n",
    "        opacity=0.25,\n",
    "        line_width=0\n",
    "    )\n",
    "\n",
    "MEASURES_COLORS = {\"c1_school_closing\": {1: \"#bbc9e0\", 2: \"#cad5e7\", 3: \"#d9e1ee\"}}\n",
    "MEASURES_NAMES = {\n",
    "    \"c1_school_closing\": \"School Closing\",\n",
    "    \"c2_workplace_closing\": \"Workplace Closing\",\n",
    "    \"c3_cancel_public_events\": \"Public Events Cancelled\",\n",
    "}"
   ]
  },
  {
   "cell_type": "code",
   "execution_count": 3,
   "metadata": {},
   "outputs": [],
   "source": [
    "#Load Data\n",
    "measures = pd.read_excel('measures_strictness.xlsx', engine='openpyxl').rename(columns={'Unnamed: 0':'Date'})\n",
    "cases_national= pd.read_csv('Data/COVID-19_casus_landelijk.csv', sep=';')\n",
    "behaviour_data= pd.read_csv('Data/COVID-19_gedrag.csv', sep=';')"
   ]
  },
  {
   "cell_type": "code",
   "execution_count": 4,
   "metadata": {},
   "outputs": [],
   "source": [
    "# Create datasets\n",
    "\n",
    "# Put date in the right format, merge with measures data\n",
    "cases_national['Date_statistics'] = pd.to_datetime(cases_national['Date_statistics'],errors='ignore', dayfirst=True)\n",
    "daily_cases = get_daily_cases(cases_national, 'Number of new cases').to_frame().reset_index()\n",
    "daily_cases['Date_statistics'] = pd.to_datetime(daily_cases['Date_statistics'])\n",
    "daily_data = daily_cases.merge(measures, left_on='Date_statistics', right_on='Date', how='left').drop(['Date', 'stringency_index', 'government_response_index', 'containment_health_index', 'economic_support_index'], axis=1)\n",
    "\n",
    "# Put date in the right format, filter to simplify the dataset, drop useless columns\n",
    "behaviour_data['Date_of_measurement'] = pd.to_datetime(behaviour_data['Date_of_measurement'],errors='ignore')\n",
    "behaviour_data = behaviour_data.loc[lambda d: (d.Region_name=='Nederland') & (d.Subgroup == 'Totaal') & (d.Sample_size != 0) & ((d.Indicator_category.str.contains('Naleving')) | (d.Indicator_category.str.contains('Zorgen')))]\n",
    "behaviour_data= behaviour_data.drop(['Date_of_report', 'Wave','Region_code', 'Subgroup', 'Figure_type', 'Region_name', 'Subgroup_category', 'Change_wrt_previous_measurement'], axis=1)\n",
    "behaviour_data['Normalised_Value'] = behaviour_data['Value'] / behaviour_data['Sample_size']\n",
    "\n",
    "#new=daily_data.drop(['Date_statistics','Number of new cases'],axis=1).apply(make_measures_0_1,axis=0,result_type='expand')\n",
    "#max_level_daily_data=pd.concat([daily_data['Date_statistics'],daily_data['Number of new cases'],new],axis=1)"
   ]
  },
  {
   "cell_type": "code",
   "execution_count": 21,
   "metadata": {},
   "outputs": [],
   "source": [
    "daily_data.to_csv('daily_data.csv',index=False)\n",
    "behaviour_data.to_csv('behaviour_data.csv',index=False)"
   ]
  },
  {
   "cell_type": "code",
   "execution_count": 6,
   "metadata": {},
   "outputs": [
    {
     "data": {
      "text/plain": [
       "array(['Bij_klachten_blijf_thuis', 'Bij_klachten_laat_testen',\n",
       "       'Houd_1_5m_afstand', 'Ontvang_max_bezoekers_thuis',\n",
       "       'Vermijd_drukke_plekken', 'Was_vaak_je_handen',\n",
       "       'Zorgen_over_Coronavirus',\n",
       "       'Draag_mondkapje_in_publieke_binnenruimtes',\n",
       "       'Hoest_niest_in_elleboog', 'Thuisgewerkte_uren', 'Werkt_thuis',\n",
       "       'Draag_mondkapje_in_ov', 'Avondklok'], dtype=object)"
      ]
     },
     "execution_count": 6,
     "metadata": {},
     "output_type": "execute_result"
    }
   ],
   "source": [
    "behaviour_data.Indicator.unique()"
   ]
  },
  {
   "cell_type": "code",
   "execution_count": 24,
   "metadata": {},
   "outputs": [],
   "source": [
    "measures_dates =get_measure_dates_dict(daily_data)\n",
    "measure = 'c1_school_closing'"
   ]
  },
  {
   "cell_type": "code",
   "execution_count": 35,
   "metadata": {},
   "outputs": [],
   "source": [
    "areas_dicts = {}\n",
    "for level in np.sort(daily_data[measure].unique()):\n",
    "    this_areas_dicts = []\n",
    "    if level == 0: \n",
    "        continue\n",
    "    else: \n",
    "        for i in range(int(len(measures_dates[measure][level]) / 2)):\n",
    "            this_dates = [str(measures_dates[measure][level][i + i]), str(measures_dates[measure][level][i + i + 1])]\n",
    "            this_areas_dicts.append(get_plot_area_dict(this_dates, measure, MEASURES_COLORS[measure][level]))\n",
    "        areas_dicts[level] = this_areas_dicts"
   ]
  },
  {
   "cell_type": "code",
   "execution_count": 36,
   "metadata": {},
   "outputs": [
    {
     "data": {
      "text/plain": [
       "{1: [{'x0': '2020-03-11 00:00:00',\n",
       "   'x1': '2020-03-15 00:00:00',\n",
       "   'y0': 0,\n",
       "   'y1': 3000,\n",
       "   'fillcolor': '#bbc9e0',\n",
       "   'opacity': 0.25,\n",
       "   'line_width': 0},\n",
       "  {'x0': '2020-06-14 00:00:00',\n",
       "   'x1': '2020-12-15 00:00:00',\n",
       "   'y0': 0,\n",
       "   'y1': 3000,\n",
       "   'fillcolor': '#bbc9e0',\n",
       "   'opacity': 0.25,\n",
       "   'line_width': 0}],\n",
       " 2: [{'x0': '2020-05-10 00:00:00',\n",
       "   'x1': '2020-06-14 00:00:00',\n",
       "   'y0': 0,\n",
       "   'y1': 3000,\n",
       "   'fillcolor': '#cad5e7',\n",
       "   'opacity': 0.25,\n",
       "   'line_width': 0},\n",
       "  {'x0': '2021-02-07 00:00:00',\n",
       "   'x1': '2021-02-16 00:00:00',\n",
       "   'y0': 0,\n",
       "   'y1': 3000,\n",
       "   'fillcolor': '#cad5e7',\n",
       "   'opacity': 0.25,\n",
       "   'line_width': 0}],\n",
       " 3: [{'x0': '2020-03-15 00:00:00',\n",
       "   'x1': '2020-05-10 00:00:00',\n",
       "   'y0': 0,\n",
       "   'y1': 3000,\n",
       "   'fillcolor': '#d9e1ee',\n",
       "   'opacity': 0.25,\n",
       "   'line_width': 0},\n",
       "  {'x0': '2020-12-15 00:00:00',\n",
       "   'x1': '2021-02-07 00:00:00',\n",
       "   'y0': 0,\n",
       "   'y1': 3000,\n",
       "   'fillcolor': '#d9e1ee',\n",
       "   'opacity': 0.25,\n",
       "   'line_width': 0}]}"
      ]
     },
     "execution_count": 36,
     "metadata": {},
     "output_type": "execute_result"
    }
   ],
   "source": [
    "areas_dicts"
   ]
  },
  {
   "cell_type": "code",
   "execution_count": null,
   "metadata": {},
   "outputs": [],
   "source": []
  }
 ],
 "metadata": {
  "kernelspec": {
   "display_name": "Python 3",
   "language": "python",
   "name": "python3"
  },
  "language_info": {
   "codemirror_mode": {
    "name": "ipython",
    "version": 3
   },
   "file_extension": ".py",
   "mimetype": "text/x-python",
   "name": "python",
   "nbconvert_exporter": "python",
   "pygments_lexer": "ipython3",
   "version": "3.7.8"
  }
 },
 "nbformat": 4,
 "nbformat_minor": 4
}
