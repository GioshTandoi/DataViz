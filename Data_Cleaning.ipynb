{
 "cells": [
  {
   "cell_type": "code",
   "execution_count": 1,
   "metadata": {},
   "outputs": [
    {
     "name": "stderr",
     "output_type": "stream",
     "text": [
      "/Users/giorgia/.pyenv/versions/3.7.8/lib/python3.7/site-packages/pandas/compat/__init__.py:120: UserWarning: Could not import the lzma module. Your installed Python is incomplete. Attempting to use lzma compression will result in a RuntimeError.\n",
      "  warnings.warn(msg)\n"
     ]
    }
   ],
   "source": [
    "import pandas as pd\n",
    "import numpy as np"
   ]
  },
  {
   "cell_type": "code",
   "execution_count": 2,
   "metadata": {},
   "outputs": [],
   "source": [
    "def get_daily_cases(data, col_name='series_1'):\n",
    "    series = data.copy()\n",
    "    series = series.groupby(by='Date_statistics').count()\n",
    "    series = series.rename(columns={'Date_file': col_name})\n",
    "    return series[col_name]\n",
    "def make_measures_0_1(column):\n",
    "    column=np.where(column==daily_data[column.name].max(),column, 0)\n",
    "    column=np.where(column==0,column, 1)\n",
    "    return column\n",
    "    \n",
    "    "
   ]
  },
  {
   "cell_type": "code",
   "execution_count": 3,
   "metadata": {},
   "outputs": [],
   "source": [
    "#Load Data\n",
    "measures = pd.read_excel('measures_strictness.xlsx', engine='openpyxl').rename(columns={'Unnamed: 0':'Date'})\n",
    "cases_national= pd.read_csv('Data/COVID-19_casus_landelijk.csv', sep=';')\n",
    "behaviour= pd.read_csv('Data/COVID-19_gedrag.csv', sep=';')"
   ]
  },
  {
   "cell_type": "code",
   "execution_count": 4,
   "metadata": {},
   "outputs": [],
   "source": [
    "# Create datasets\n",
    "\n",
    "# Put date in the right format, merge with measures data\n",
    "cases_national['Date_statistics'] = pd.to_datetime(cases_national['Date_statistics'],errors='ignore', dayfirst=True)\n",
    "daily_cases = get_daily_cases(cases_national, 'Number of new cases').to_frame().reset_index()\n",
    "daily_cases['Date_statistics'] = pd.to_datetime(daily_cases['Date_statistics'])\n",
    "daily_data = daily_cases.merge(measures, left_on='Date_statistics', right_on='Date', how='left').drop(['Date', 'stringency_index', 'government_response_index', 'containment_health_index', 'economic_support_index'], axis=1)\n",
    "\n",
    "# Put date in the right format, filter to simplify the dataset, drop useless columns\n",
    "behaviour['Date_of_measurement'] = pd.to_datetime(behaviour['Date_of_measurement'],errors='ignore')\n",
    "behaviour = behaviour.loc[lambda d: (d.Region_name=='Nederland') & (d.Subgroup == 'Totaal') & (d.Sample_size != 0) & ((d.Indicator_category.str.contains('Naleving')) | (d.Indicator_category.str.contains('Zorgen')))]\n",
    "behaviour= behaviour.drop(['Date_of_report', 'Wave','Region_code', 'Subgroup', 'Figure_type', 'Region_name', 'Subgroup_category', 'Lower_limit', 'Upper_limit', 'Change_wrt_previous_measurement'], axis=1)"
   ]
  },
  {
   "cell_type": "code",
   "execution_count": 5,
   "metadata": {},
   "outputs": [],
   "source": [
    "new=daily_data.drop(['Date_statistics','Number of new cases'],axis=1).apply(make_measures_0_1,axis=0,result_type='expand')\n",
    "daily_data=pd.concat([daily_data['Date_statistics'],daily_data['Number of new cases'],new],axis=1)\n",
    "daily_data.to_csv('daily_data.csv',index=False)"
   ]
  },
  {
   "cell_type": "code",
   "execution_count": 6,
   "metadata": {},
   "outputs": [
    {
     "data": {
      "text/plain": [
       "{'c1_school_closing': [Timestamp('2020-03-15 00:00:00'),\n",
       "  Timestamp('2020-05-10 00:00:00'),\n",
       "  Timestamp('2020-12-15 00:00:00'),\n",
       "  Timestamp('2021-02-07 00:00:00')],\n",
       " 'c2_workplace_closing': [Timestamp('2020-11-03 00:00:00'),\n",
       "  Timestamp('2020-11-21 00:00:00'),\n",
       "  Timestamp('2020-12-14 00:00:00'),\n",
       "  Timestamp('2020-02-16 00:00:00')],\n",
       " 'c3_cancel_public_events': [Timestamp('2020-03-09 00:00:00'),\n",
       "  Timestamp('2020-06-30 00:00:00'),\n",
       "  Timestamp('2020-09-28 00:00:00'),\n",
       "  Timestamp('2020-02-16 00:00:00')],\n",
       " 'c4_restrictions_on_gatherings': [Timestamp('2020-03-22 00:00:00'),\n",
       "  Timestamp('2020-05-31 00:00:00'),\n",
       "  Timestamp('2020-08-17 00:00:00'),\n",
       "  Timestamp('2020-02-16 00:00:00')],\n",
       " 'c5_close_public_transport': [Timestamp('2020-03-22 00:00:00'),\n",
       "  Timestamp('2020-05-31 00:00:00'),\n",
       "  Timestamp('2020-12-14 00:00:00'),\n",
       "  Timestamp('2020-02-16 00:00:00')],\n",
       " 'c6_stay_at_home_requirements': [Timestamp('2020-03-22 00:00:00'),\n",
       "  Timestamp('2020-05-10 00:00:00'),\n",
       "  Timestamp('2021-01-22 00:00:00'),\n",
       "  Timestamp('2020-02-16 00:00:00')],\n",
       " 'c7_movement_restriction': [Timestamp('2020-03-22 00:00:00'),\n",
       "  Timestamp('2020-06-30 00:00:00'),\n",
       "  Timestamp('2020-09-28 00:00:00'),\n",
       "  Timestamp('2020-11-21 00:00:00'),\n",
       "  Timestamp('2020-12-14 00:00:00'),\n",
       "  Timestamp('2020-02-16 00:00:00')],\n",
       " 'c8_international_travel': [Timestamp('2020-03-12 00:00:00'),\n",
       "  Timestamp('2020-02-16 00:00:00')],\n",
       " 'h1_public_information_campaigns': [Timestamp('2020-03-05 00:00:00'),\n",
       "  Timestamp('2020-02-16 00:00:00')],\n",
       " 'h2_testing_policy': [Timestamp('2020-05-31 00:00:00'),\n",
       "  Timestamp('2020-02-16 00:00:00')],\n",
       " 'h3_contact_tracing': [Timestamp('2020-02-26 00:00:00'),\n",
       "  Timestamp('2020-03-11 00:00:00'),\n",
       "  Timestamp('2020-05-31 00:00:00'),\n",
       "  Timestamp('2020-11-30 00:00:00')],\n",
       " 'h6_facial_coverings': [Timestamp('2020-05-31 00:00:00'),\n",
       "  Timestamp('2020-02-16 00:00:00')],\n",
       " 'h7_vaccination_policy': [Timestamp('2021-01-29 00:00:00'),\n",
       "  Timestamp('2020-02-16 00:00:00')],\n",
       " 'h8_protection_of_elderly_people': [Timestamp('2020-03-19 00:00:00'),\n",
       "  Timestamp('2020-05-24 00:00:00')]}"
      ]
     },
     "execution_count": 6,
     "metadata": {},
     "output_type": "execute_result"
    }
   ],
   "source": [
    "def find_start_end_dates(measure,df):\n",
    "    dates=[]\n",
    "    for elem in range(len(df[measure])-1):\n",
    "        if  df[measure][elem]!=df[measure][elem+1]:\n",
    "            dates.append(df['Date_statistics'][elem])\n",
    "    if len(dates)%2==1:\n",
    "        dates.append(pd.to_datetime('2020-02-16 00:00:00'))\n",
    "    return dates\n",
    "\n",
    "measures=['c1_school_closing',\n",
    "       'c2_workplace_closing', 'c3_cancel_public_events',\n",
    "       'c4_restrictions_on_gatherings', 'c5_close_public_transport',\n",
    "       'c6_stay_at_home_requirements', 'c7_movement_restriction',\n",
    "       'c8_international_travel', 'h1_public_information_campaigns',\n",
    "       'h2_testing_policy', 'h3_contact_tracing', 'h6_facial_coverings',\n",
    "       'h7_vaccination_policy', 'h8_protection_of_elderly_people']\n",
    "measure_dates=dict()\n",
    "\n",
    "for measure in measures:\n",
    "    measure_dates[measure]=find_start_end_dates(measure,daily_data)\n",
    "    \n",
    "measure_dates"
   ]
  },
  {
   "cell_type": "code",
   "execution_count": null,
   "metadata": {},
   "outputs": [],
   "source": []
  }
 ],
 "metadata": {
  "kernelspec": {
   "display_name": "Python 3",
   "language": "python",
   "name": "python3"
  },
  "language_info": {
   "codemirror_mode": {
    "name": "ipython",
    "version": 3
   },
   "file_extension": ".py",
   "mimetype": "text/x-python",
   "name": "python",
   "nbconvert_exporter": "python",
   "pygments_lexer": "ipython3",
   "version": "3.7.8"
  }
 },
 "nbformat": 4,
 "nbformat_minor": 4
}
