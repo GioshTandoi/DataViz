{
 "cells": [
  {
   "cell_type": "code",
   "execution_count": 97,
   "metadata": {},
   "outputs": [],
   "source": [
    "import pandas as pd\n",
    "import numpy as np"
   ]
  },
  {
   "cell_type": "code",
   "execution_count": 98,
   "metadata": {},
   "outputs": [],
   "source": [
    "def get_daily_cases(data, col_name='series_1'):\n",
    "    series = data.copy()\n",
    "    series = series.groupby(by='Date_statistics').count()\n",
    "    series = series.rename(columns={'Date_file': col_name})\n",
    "    return series[col_name]\n",
    "\n",
    "\n",
    "def make_measures_0_1(column):\n",
    "    column=np.where(column==daily_data[column.name].max(),column, 0)\n",
    "    column=np.where(column==0,column, 1)\n",
    "    return column"
   ]
  },
  {
   "cell_type": "code",
   "execution_count": 99,
   "metadata": {},
   "outputs": [],
   "source": [
    "#Load Data\n",
    "measures = pd.read_excel('measures_strictness.xlsx', engine='openpyxl').rename(columns={'Unnamed: 0':'Date'})\n",
    "cases_national= pd.read_csv('Data/COVID-19_casus_landelijk.csv', sep=';')\n",
    "behaviour_data= pd.read_csv('Data/COVID-19_gedrag.csv', sep=';')"
   ]
  },
  {
   "cell_type": "code",
   "execution_count": 100,
   "metadata": {},
   "outputs": [],
   "source": [
    "# Create datasets\n",
    "\n",
    "# Put date in the right format, merge with measures data\n",
    "cases_national['Date_statistics'] = pd.to_datetime(cases_national['Date_statistics'],errors='ignore', dayfirst=True)\n",
    "daily_cases = get_daily_cases(cases_national, 'Number of new cases').to_frame().reset_index()\n",
    "daily_cases['Date_statistics'] = pd.to_datetime(daily_cases['Date_statistics'])\n",
    "daily_data = daily_cases.merge(measures, left_on='Date_statistics', right_on='Date', how='left').drop(['Date', 'stringency_index', 'government_response_index', 'containment_health_index', 'economic_support_index'], axis=1)\n",
    "\n",
    "# Put date in the right format, filter to simplify the dataset, drop useless columns\n",
    "behaviour_data['Date_of_measurement'] = pd.to_datetime(behaviour_data['Date_of_measurement'],errors='ignore')\n",
    "behaviour_data = behaviour_data.loc[lambda d: (d.Region_name=='Nederland') & (d.Subgroup == 'Totaal') & (d.Sample_size != 0) & ((d.Indicator_category.str.contains('Naleving')) | (d.Indicator_category.str.contains('Zorgen')))]\n",
    "behaviour_data= behaviour_data.drop(['Date_of_report', 'Wave','Region_code', 'Subgroup', 'Figure_type', 'Region_name', 'Subgroup_category', 'Lower_limit', 'Upper_limit', 'Change_wrt_previous_measurement'], axis=1)\n",
    "behaviour_data['Normalised_Value'] = behaviour_data['Value'] / behaviour_data['Sample_size']"
   ]
  },
  {
   "cell_type": "code",
   "execution_count": 101,
   "metadata": {},
   "outputs": [],
   "source": [
    "new=daily_data.drop(['Date_statistics','Number of new cases'],axis=1).apply(make_measures_0_1,axis=0,result_type='expand')\n",
    "daily_data=pd.concat([daily_data['Date_statistics'],daily_data['Number of new cases'],new],axis=1)\n",
    "daily_data.to_csv('daily_data.csv',index=False)\n",
    "behaviour_data.to_csv('behaviour_data.csv',index=False)"
   ]
  }
 ],
 "metadata": {
  "kernelspec": {
   "display_name": "Python 3",
   "language": "python",
   "name": "python3"
  },
  "language_info": {
   "codemirror_mode": {
    "name": "ipython",
    "version": 3
   },
   "file_extension": ".py",
   "mimetype": "text/x-python",
   "name": "python",
   "nbconvert_exporter": "python",
   "pygments_lexer": "ipython3",
   "version": "3.7.8"
  }
 },
 "nbformat": 4,
 "nbformat_minor": 4
}
