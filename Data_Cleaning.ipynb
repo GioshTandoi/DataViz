{
 "cells": [
  {
   "cell_type": "code",
   "execution_count": 2,
   "metadata": {},
   "outputs": [
    {
     "name": "stderr",
     "output_type": "stream",
     "text": [
      "/Users/giorgia/.pyenv/versions/3.7.8/lib/python3.7/site-packages/pandas/compat/__init__.py:120: UserWarning: Could not import the lzma module. Your installed Python is incomplete. Attempting to use lzma compression will result in a RuntimeError.\n",
      "  warnings.warn(msg)\n"
     ]
    }
   ],
   "source": [
    "import pandas as pd"
   ]
  },
  {
   "cell_type": "code",
   "execution_count": 3,
   "metadata": {},
   "outputs": [],
   "source": [
    "def get_daily_cases(data, col_name='series_1'):\n",
    "    series = data.copy()\n",
    "    series = series.groupby(by='Date_statistics').count()\n",
    "    series = series.rename(columns={'Date_file': col_name})\n",
    "    return series[col_name]"
   ]
  },
  {
   "cell_type": "code",
   "execution_count": 4,
   "metadata": {},
   "outputs": [],
   "source": [
    "#Load Data\n",
    "measures = pd.read_excel('measures_strictness.xlsx', engine='openpyxl').rename(columns={'Unnamed: 0':'Date'})\n",
    "cases_national= pd.read_csv('Data/COVID-19_casus_landelijk.csv', sep=';')\n",
    "behaviour= pd.read_csv('Data/COVID-19_gedrag.csv', sep=';')"
   ]
  },
  {
   "cell_type": "code",
   "execution_count": 6,
   "metadata": {},
   "outputs": [],
   "source": [
    "# Create datasets\n",
    "\n",
    "# Put date in the right format, merge with measures data\n",
    "cases_national['Date_statistics'] = pd.to_datetime(cases_national['Date_statistics'],errors='ignore', dayfirst=True)\n",
    "daily_cases = get_daily_cases(cases_national, 'Number of new cases').to_frame().reset_index()\n",
    "daily_cases['Date_statistics'] = pd.to_datetime(daily_cases['Date_statistics'])\n",
    "daily_data = daily_cases.merge(measures, left_on='Date_statistics', right_on='Date', how='left').drop(['Date', 'stringency_index', 'government_response_index', 'containment_health_index', 'economic_support_index'], axis=1)\n",
    "\n",
    "# Put date in the right format, filter to simplify the dataset, drop useless columns\n",
    "behaviour['Date_of_measurement'] = pd.to_datetime(behaviour['Date_of_measurement'],errors='ignore')\n",
    "behaviour = behaviour.loc[lambda d: (d.Region_name=='Nederland') & (d.Subgroup == 'Totaal') & (d.Sample_size != 0) & ((d.Indicator_category.str.contains('Naleving')) | (d.Indicator_category.str.contains('Zorgen')))]\n",
    "behaviour= behaviour.drop(['Date_of_report', 'Wave','Region_code', 'Subgroup', 'Figure_type', 'Region_name', 'Subgroup_category', 'Lower_limit', 'Upper_limit', 'Change_wrt_previous_measurement'], axis=1)"
   ]
  },
  {
   "cell_type": "code",
   "execution_count": 8,
   "metadata": {},
   "outputs": [],
   "source": [
    "daily_data.to_csv('daily_data.csv', index=False)"
   ]
  },
  {
   "cell_type": "code",
   "execution_count": 221,
   "metadata": {},
   "outputs": [
    {
     "data": {
      "text/html": [
       "<div>\n",
       "<style scoped>\n",
       "    .dataframe tbody tr th:only-of-type {\n",
       "        vertical-align: middle;\n",
       "    }\n",
       "\n",
       "    .dataframe tbody tr th {\n",
       "        vertical-align: top;\n",
       "    }\n",
       "\n",
       "    .dataframe thead th {\n",
       "        text-align: right;\n",
       "    }\n",
       "</style>\n",
       "<table border=\"1\" class=\"dataframe\">\n",
       "  <thead>\n",
       "    <tr style=\"text-align: right;\">\n",
       "      <th></th>\n",
       "      <th>Date_of_measurement</th>\n",
       "      <th>Indicator_category</th>\n",
       "      <th>Indicator</th>\n",
       "      <th>Sample_size</th>\n",
       "      <th>Value</th>\n",
       "    </tr>\n",
       "  </thead>\n",
       "  <tbody>\n",
       "    <tr>\n",
       "      <th>1656</th>\n",
       "      <td>2020-09-28</td>\n",
       "      <td>Naleving</td>\n",
       "      <td>Bij_klachten_blijf_thuis</td>\n",
       "      <td>929</td>\n",
       "      <td>46.1</td>\n",
       "    </tr>\n",
       "    <tr>\n",
       "      <th>1692</th>\n",
       "      <td>2020-09-28</td>\n",
       "      <td>Naleving</td>\n",
       "      <td>Bij_klachten_laat_testen</td>\n",
       "      <td>1012</td>\n",
       "      <td>32.2</td>\n",
       "    </tr>\n",
       "    <tr>\n",
       "      <th>1836</th>\n",
       "      <td>2020-09-28</td>\n",
       "      <td>Naleving</td>\n",
       "      <td>Houd_1_5m_afstand</td>\n",
       "      <td>4966</td>\n",
       "      <td>61.6</td>\n",
       "    </tr>\n",
       "    <tr>\n",
       "      <th>1872</th>\n",
       "      <td>2020-09-28</td>\n",
       "      <td>Naleving</td>\n",
       "      <td>Ontvang_max_bezoekers_thuis</td>\n",
       "      <td>5025</td>\n",
       "      <td>97.3</td>\n",
       "    </tr>\n",
       "    <tr>\n",
       "      <th>1944</th>\n",
       "      <td>2020-09-28</td>\n",
       "      <td>Naleving</td>\n",
       "      <td>Vermijd_drukke_plekken</td>\n",
       "      <td>5025</td>\n",
       "      <td>63.3</td>\n",
       "    </tr>\n",
       "  </tbody>\n",
       "</table>\n",
       "</div>"
      ],
      "text/plain": [
       "     Date_of_measurement Indicator_category                    Indicator  \\\n",
       "1656          2020-09-28           Naleving     Bij_klachten_blijf_thuis   \n",
       "1692          2020-09-28           Naleving     Bij_klachten_laat_testen   \n",
       "1836          2020-09-28           Naleving            Houd_1_5m_afstand   \n",
       "1872          2020-09-28           Naleving  Ontvang_max_bezoekers_thuis   \n",
       "1944          2020-09-28           Naleving       Vermijd_drukke_plekken   \n",
       "\n",
       "      Sample_size  Value  \n",
       "1656          929   46.1  \n",
       "1692         1012   32.2  \n",
       "1836         4966   61.6  \n",
       "1872         5025   97.3  \n",
       "1944         5025   63.3  "
      ]
     },
     "execution_count": 221,
     "metadata": {},
     "output_type": "execute_result"
    }
   ],
   "source": [
    "behaviour.head()"
   ]
  },
  {
   "cell_type": "code",
   "execution_count": 8,
   "metadata": {},
   "outputs": [
    {
     "data": {
      "text/html": [
       "<div>\n",
       "<style scoped>\n",
       "    .dataframe tbody tr th:only-of-type {\n",
       "        vertical-align: middle;\n",
       "    }\n",
       "\n",
       "    .dataframe tbody tr th {\n",
       "        vertical-align: top;\n",
       "    }\n",
       "\n",
       "    .dataframe thead th {\n",
       "        text-align: right;\n",
       "    }\n",
       "</style>\n",
       "<table border=\"1\" class=\"dataframe\">\n",
       "  <thead>\n",
       "    <tr style=\"text-align: right;\">\n",
       "      <th></th>\n",
       "      <th>count_of_measurements</th>\n",
       "    </tr>\n",
       "    <tr>\n",
       "      <th>Date_of_measurement</th>\n",
       "      <th></th>\n",
       "    </tr>\n",
       "  </thead>\n",
       "  <tbody>\n",
       "    <tr>\n",
       "      <th>2020-09-28</th>\n",
       "      <td>7</td>\n",
       "    </tr>\n",
       "    <tr>\n",
       "      <th>2020-10-19</th>\n",
       "      <td>11</td>\n",
       "    </tr>\n",
       "    <tr>\n",
       "      <th>2020-11-09</th>\n",
       "      <td>11</td>\n",
       "    </tr>\n",
       "    <tr>\n",
       "      <th>2020-11-30</th>\n",
       "      <td>12</td>\n",
       "    </tr>\n",
       "    <tr>\n",
       "      <th>2020-12-14</th>\n",
       "      <td>12</td>\n",
       "    </tr>\n",
       "    <tr>\n",
       "      <th>2021-01-04</th>\n",
       "      <td>12</td>\n",
       "    </tr>\n",
       "    <tr>\n",
       "      <th>2021-01-25</th>\n",
       "      <td>13</td>\n",
       "    </tr>\n",
       "    <tr>\n",
       "      <th>2021-02-15</th>\n",
       "      <td>13</td>\n",
       "    </tr>\n",
       "    <tr>\n",
       "      <th>2021-03-08</th>\n",
       "      <td>13</td>\n",
       "    </tr>\n",
       "  </tbody>\n",
       "</table>\n",
       "</div>"
      ],
      "text/plain": [
       "                     count_of_measurements\n",
       "Date_of_measurement                       \n",
       "2020-09-28                               7\n",
       "2020-10-19                              11\n",
       "2020-11-09                              11\n",
       "2020-11-30                              12\n",
       "2020-12-14                              12\n",
       "2021-01-04                              12\n",
       "2021-01-25                              13\n",
       "2021-02-15                              13\n",
       "2021-03-08                              13"
      ]
     },
     "execution_count": 8,
     "metadata": {},
     "output_type": "execute_result"
    }
   ],
   "source": [
    "behaviour.groupby('Date_of_measurement').agg(count_of_measurements=pd.NamedAgg(column='Indicator_category', aggfunc='count'))"
   ]
  }
 ],
 "metadata": {
  "kernelspec": {
   "display_name": "Python 3",
   "language": "python",
   "name": "python3"
  },
  "language_info": {
   "codemirror_mode": {
    "name": "ipython",
    "version": 3
   },
   "file_extension": ".py",
   "mimetype": "text/x-python",
   "name": "python",
   "nbconvert_exporter": "python",
   "pygments_lexer": "ipython3",
   "version": "3.7.8"
  }
 },
 "nbformat": 4,
 "nbformat_minor": 4
}
