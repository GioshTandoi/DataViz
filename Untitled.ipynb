{
 "cells": [
  {
   "cell_type": "code",
   "execution_count": 1,
   "metadata": {},
   "outputs": [],
   "source": [
    "from xml.etree import ElementTree\n",
    "import dash_html_components as html\n",
    "\n",
    "def convert_html_to_dash(html_code):\n",
    "    \"\"\"Convert standard html to Dash components\"\"\"\n",
    "\n",
    "    def parse_css(css):\n",
    "        \"\"\"Convert a style in ccs format to dictionary accepted by Dash\"\"\"\n",
    "        return {k: v for style in css.strip(\";\").split(\";\") for k, v in [style.split(\":\")]}\n",
    "\n",
    "    def _convert(elem):\n",
    "        comp = getattr(html, elem.tag.capitalize())\n",
    "        children = [_convert(child) for child in elem]\n",
    "        if not children:\n",
    "            children = elem.text\n",
    "        attribs = elem.attrib.copy()\n",
    "        if \"class\" in attribs:\n",
    "            attribs[\"className\"] = attribs.pop(\"class\")\n",
    "        attribs = {k: (parse_css(v) if k == \"style\" else v) for k, v in attribs.items()}\n",
    "\n",
    "        return comp(children=children, **attribs)\n",
    "\n",
    "    et = ElementTree.fromstring(html_code)\n",
    "\n",
    "    return _convert(et)"
   ]
  },
  {
   "cell_type": "code",
   "execution_count": 3,
   "metadata": {},
   "outputs": [],
   "source": [
    "str_htl = \"<div class='legend-scale'> <ul class='legend-labels'> <li><span style='background:#ffb3d1;'></span></li><li><span style='background:#ff0066;'></span></li> <li><span style='background:#99003d;'></span></li> <span>School Closing</span> </ul></div> \""
   ]
  },
  {
   "cell_type": "code",
   "execution_count": 5,
   "metadata": {},
   "outputs": [],
   "source": [
    "dash_comp = convert_html_to_dash(str_htl)"
   ]
  },
  {
   "cell_type": "code",
   "execution_count": 8,
   "metadata": {},
   "outputs": [
    {
     "data": {
      "text/plain": [
       "dash_html_components.Div.Div"
      ]
     },
     "execution_count": 8,
     "metadata": {},
     "output_type": "execute_result"
    }
   ],
   "source": [
    "type(dash_comp)"
   ]
  },
  {
   "cell_type": "code",
   "execution_count": 9,
   "metadata": {},
   "outputs": [
    {
     "data": {
      "text/plain": [
       "Div(children=[Ul(children=[Li([Span(style={'background': '#ffb3d1'})]), Li([Span(style={'background': '#ff0066'})]), Li([Span(style={'background': '#99003d'})]), Span('School Closing')], className='legend-labels')], className='legend-scale')"
      ]
     },
     "execution_count": 9,
     "metadata": {},
     "output_type": "execute_result"
    }
   ],
   "source": [
    "dash_comp"
   ]
  },
  {
   "cell_type": "code",
   "execution_count": null,
   "metadata": {},
   "outputs": [],
   "source": []
  }
 ],
 "metadata": {
  "kernelspec": {
   "display_name": "Python 3",
   "language": "python",
   "name": "python3"
  },
  "language_info": {
   "codemirror_mode": {
    "name": "ipython",
    "version": 3
   },
   "file_extension": ".py",
   "mimetype": "text/x-python",
   "name": "python",
   "nbconvert_exporter": "python",
   "pygments_lexer": "ipython3",
   "version": "3.7.8"
  }
 },
 "nbformat": 4,
 "nbformat_minor": 4
}
