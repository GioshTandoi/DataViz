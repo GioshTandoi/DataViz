{
 "metadata": {
  "language_info": {
   "codemirror_mode": {
    "name": "ipython",
    "version": 3
   },
   "file_extension": ".py",
   "mimetype": "text/x-python",
   "name": "python",
   "nbconvert_exporter": "python",
   "pygments_lexer": "ipython3",
   "version": "3.7.7"
  },
  "orig_nbformat": 2,
  "kernelspec": {
   "name": "python3",
   "display_name": "Python 3.7.7 64-bit",
   "metadata": {
    "interpreter": {
     "hash": "aee8b7b246df8f9039afb4144a1f6fd8d2ca17a180786b69acc140d282b71a49"
    }
   }
  }
 },
 "nbformat": 4,
 "nbformat_minor": 2,
 "cells": [
  {
   "cell_type": "code",
   "execution_count": 1,
   "metadata": {},
   "outputs": [
    {
     "output_type": "stream",
     "name": "stdout",
     "text": [
      "loading... COVID-19_aantallen_gemeente_cumulatief.csv\n",
      "loading... COVID-19_gehandicaptenzorg.csv\n",
      "loading... COVID-19_uitgevoerde_testen.csv\n",
      "loading... COVID-19_aantallen_gemeente_per_dag.csv\n",
      "loading... COVID-19_ic_opnames.csv\n",
      "loading... COVID-19_verpleeghuizen.csv\n",
      "loading... COVID-19_casus_landelijk.csv\n",
      "loading... COVID-19_rioolwaterdata.csv\n",
      "loading... COVID-19_ziekenhuisopnames.csv\n",
      "loading... COVID-19_gedrag.csv\n",
      "loading... COVID-19_thuiswonend_70plus.csv\n"
     ]
    }
   ],
   "source": [
    "from raw_data import raw_data"
   ]
  },
  {
   "cell_type": "code",
   "execution_count": 2,
   "metadata": {},
   "outputs": [
    {
     "output_type": "stream",
     "name": "stdout",
     "text": [
      "dict_keys(['aggregated_cases_municipality', 'handicaped', 'tests', 'daily_cases_municiplaity', 'icu', 'nursing_homes', 'cases_national', 'water', 'hospital', 'bahaviour', 'seventy_plus'])\n"
     ]
    }
   ],
   "source": [
    "print(raw_data.keys())"
   ]
  },
  {
   "cell_type": "code",
   "execution_count": 3,
   "metadata": {},
   "outputs": [
    {
     "output_type": "execute_result",
     "data": {
      "text/plain": [
       "      Version       Date_of_report Date_of_statistics Security_region_code  \\\n",
       "0           1  2021-04-12 09:00:00         2020-06-01                 VR01   \n",
       "1           1  2021-04-12 09:00:00         2020-06-02                 VR01   \n",
       "2           1  2021-04-12 09:00:00         2020-06-03                 VR01   \n",
       "3           1  2021-04-12 09:00:00         2020-06-04                 VR01   \n",
       "4           1  2021-04-12 09:00:00         2020-06-05                 VR01   \n",
       "...       ...                  ...                ...                  ...   \n",
       "8159        1  2021-04-12 09:00:00         2021-04-06                  NaN   \n",
       "8160        1  2021-04-12 09:00:00         2021-04-07                  NaN   \n",
       "8161        1  2021-04-12 09:00:00         2021-04-08                  NaN   \n",
       "8162        1  2021-04-12 09:00:00         2021-04-09                  NaN   \n",
       "8163        1  2021-04-12 09:00:00         2021-04-10                  NaN   \n",
       "\n",
       "     Security_region_name  Tested_with_result  Tested_positive  \n",
       "0               Groningen                   2                0  \n",
       "1               Groningen                 216                0  \n",
       "2               Groningen                 204                0  \n",
       "3               Groningen                 242                1  \n",
       "4               Groningen                 222                0  \n",
       "...                   ...                 ...              ...  \n",
       "8159             Onbekend                  35                4  \n",
       "8160             Onbekend                  35                2  \n",
       "8161             Onbekend                  26                2  \n",
       "8162             Onbekend                  27                5  \n",
       "8163             Onbekend                  19                2  \n",
       "\n",
       "[8164 rows x 7 columns]"
      ],
      "text/html": "<div>\n<style scoped>\n    .dataframe tbody tr th:only-of-type {\n        vertical-align: middle;\n    }\n\n    .dataframe tbody tr th {\n        vertical-align: top;\n    }\n\n    .dataframe thead th {\n        text-align: right;\n    }\n</style>\n<table border=\"1\" class=\"dataframe\">\n  <thead>\n    <tr style=\"text-align: right;\">\n      <th></th>\n      <th>Version</th>\n      <th>Date_of_report</th>\n      <th>Date_of_statistics</th>\n      <th>Security_region_code</th>\n      <th>Security_region_name</th>\n      <th>Tested_with_result</th>\n      <th>Tested_positive</th>\n    </tr>\n  </thead>\n  <tbody>\n    <tr>\n      <td>0</td>\n      <td>1</td>\n      <td>2021-04-12 09:00:00</td>\n      <td>2020-06-01</td>\n      <td>VR01</td>\n      <td>Groningen</td>\n      <td>2</td>\n      <td>0</td>\n    </tr>\n    <tr>\n      <td>1</td>\n      <td>1</td>\n      <td>2021-04-12 09:00:00</td>\n      <td>2020-06-02</td>\n      <td>VR01</td>\n      <td>Groningen</td>\n      <td>216</td>\n      <td>0</td>\n    </tr>\n    <tr>\n      <td>2</td>\n      <td>1</td>\n      <td>2021-04-12 09:00:00</td>\n      <td>2020-06-03</td>\n      <td>VR01</td>\n      <td>Groningen</td>\n      <td>204</td>\n      <td>0</td>\n    </tr>\n    <tr>\n      <td>3</td>\n      <td>1</td>\n      <td>2021-04-12 09:00:00</td>\n      <td>2020-06-04</td>\n      <td>VR01</td>\n      <td>Groningen</td>\n      <td>242</td>\n      <td>1</td>\n    </tr>\n    <tr>\n      <td>4</td>\n      <td>1</td>\n      <td>2021-04-12 09:00:00</td>\n      <td>2020-06-05</td>\n      <td>VR01</td>\n      <td>Groningen</td>\n      <td>222</td>\n      <td>0</td>\n    </tr>\n    <tr>\n      <td>...</td>\n      <td>...</td>\n      <td>...</td>\n      <td>...</td>\n      <td>...</td>\n      <td>...</td>\n      <td>...</td>\n      <td>...</td>\n    </tr>\n    <tr>\n      <td>8159</td>\n      <td>1</td>\n      <td>2021-04-12 09:00:00</td>\n      <td>2021-04-06</td>\n      <td>NaN</td>\n      <td>Onbekend</td>\n      <td>35</td>\n      <td>4</td>\n    </tr>\n    <tr>\n      <td>8160</td>\n      <td>1</td>\n      <td>2021-04-12 09:00:00</td>\n      <td>2021-04-07</td>\n      <td>NaN</td>\n      <td>Onbekend</td>\n      <td>35</td>\n      <td>2</td>\n    </tr>\n    <tr>\n      <td>8161</td>\n      <td>1</td>\n      <td>2021-04-12 09:00:00</td>\n      <td>2021-04-08</td>\n      <td>NaN</td>\n      <td>Onbekend</td>\n      <td>26</td>\n      <td>2</td>\n    </tr>\n    <tr>\n      <td>8162</td>\n      <td>1</td>\n      <td>2021-04-12 09:00:00</td>\n      <td>2021-04-09</td>\n      <td>NaN</td>\n      <td>Onbekend</td>\n      <td>27</td>\n      <td>5</td>\n    </tr>\n    <tr>\n      <td>8163</td>\n      <td>1</td>\n      <td>2021-04-12 09:00:00</td>\n      <td>2021-04-10</td>\n      <td>NaN</td>\n      <td>Onbekend</td>\n      <td>19</td>\n      <td>2</td>\n    </tr>\n  </tbody>\n</table>\n<p>8164 rows × 7 columns</p>\n</div>"
     },
     "metadata": {},
     "execution_count": 3
    }
   ],
   "source": [
    "raw_data['tests']"
   ]
  },
  {
   "cell_type": "code",
   "execution_count": 3,
   "metadata": {},
   "outputs": [
    {
     "output_type": "stream",
     "name": "stdout",
     "text": [
      "<class 'pandas.core.frame.DataFrame'>\nRangeIndex: 1048575 entries, 0 to 1048574\nData columns (total 10 columns):\nDate_file                   1048575 non-null object\nDate_statistics             1048575 non-null datetime64[ns]\nDate_statistics_type        1048575 non-null object\nAgegroup                    1048575 non-null object\nSex                         1048575 non-null object\nProvince                    1048575 non-null object\nHospital_admission          1048575 non-null object\nDeceased                    1048575 non-null object\nWeek_of_death               15806 non-null float64\nMunicipal_health_service    1048575 non-null object\ndtypes: datetime64[ns](1), float64(1), object(8)\nmemory usage: 80.0+ MB\n"
     ]
    }
   ],
   "source": [
    "raw_data['cases_national'].info()"
   ]
  },
  {
   "cell_type": "code",
   "execution_count": 4,
   "metadata": {},
   "outputs": [
    {
     "output_type": "execute_result",
     "data": {
      "text/plain": [
       "pandas._libs.tslibs.timestamps.Timestamp"
      ]
     },
     "metadata": {},
     "execution_count": 4
    }
   ],
   "source": [
    "type(raw_data['cases_national']['Date_statistics'][1])"
   ]
  },
  {
   "cell_type": "code",
   "execution_count": 6,
   "metadata": {},
   "outputs": [
    {
     "output_type": "execute_result",
     "data": {
      "text/plain": [
       "             Date_of_report Date_of_publication Municipality_code  \\\n",
       "0       2021-04-12 10:00:00          2020-02-27            GM0014   \n",
       "1       2021-04-12 10:00:00          2020-02-27            GM0034   \n",
       "2       2021-04-12 10:00:00          2020-02-27            GM0037   \n",
       "3       2021-04-12 10:00:00          2020-02-27            GM0047   \n",
       "4       2021-04-12 10:00:00          2020-02-27            GM0050   \n",
       "...                     ...                 ...               ...   \n",
       "155353  2021-04-12 10:00:00          2021-04-12               NaN   \n",
       "155354  2021-04-12 10:00:00          2021-04-12               NaN   \n",
       "155355  2021-04-12 10:00:00          2021-04-12               NaN   \n",
       "155356  2021-04-12 10:00:00          2021-04-12               NaN   \n",
       "155357  2021-04-12 10:00:00          2021-04-12               NaN   \n",
       "\n",
       "       Municipality_name       Province Security_region_code  \\\n",
       "0              Groningen      Groningen                 VR01   \n",
       "1                 Almere      Flevoland                 VR25   \n",
       "2            Stadskanaal      Groningen                 VR01   \n",
       "3                Veendam      Groningen                 VR01   \n",
       "4               Zeewolde      Flevoland                 VR25   \n",
       "...                  ...            ...                  ...   \n",
       "155353               NaN        Limburg                 VR23   \n",
       "155354               NaN        Limburg                 VR24   \n",
       "155355               NaN   Zuid-Holland                 VR15   \n",
       "155356               NaN        Fryslân                 VR02   \n",
       "155357               NaN  Noord-Holland                 VR11   \n",
       "\n",
       "        Security_region_name  Municipal_health_service  \\\n",
       "0                  Groningen             GGD Groningen   \n",
       "1                  Flevoland             GGD Flevoland   \n",
       "2                  Groningen             GGD Groningen   \n",
       "3                  Groningen             GGD Groningen   \n",
       "4                  Flevoland             GGD Flevoland   \n",
       "...                      ...                       ...   \n",
       "155353         Limburg-Noord         GGD Limburg-Noord   \n",
       "155354          Limburg-Zuid          GGD Zuid-Limburg   \n",
       "155355            Haaglanden            GGD Haaglanden   \n",
       "155356               Fryslân               GGD Fryslân   \n",
       "155357  Zaanstreek-Waterland  GGD Zaanstreek/Waterland   \n",
       "\n",
       "                              ROAZ_region  Total_reported  Hospital_admission  \\\n",
       "0       Acute Zorgnetwerk Noord Nederland               0                   0   \n",
       "1                            SpoedZorgNet               0                   0   \n",
       "2       Acute Zorgnetwerk Noord Nederland               0                   0   \n",
       "3       Acute Zorgnetwerk Noord Nederland               0                   0   \n",
       "4                            SpoedZorgNet               0                   0   \n",
       "...                                   ...             ...                 ...   \n",
       "155353         Netwerk Acute Zorg Limburg               3                   0   \n",
       "155354         Netwerk Acute Zorg Limburg               2                   0   \n",
       "155355            Netwerk Acute Zorg West              12                   0   \n",
       "155356  Acute Zorgnetwerk Noord Nederland               0                   0   \n",
       "155357                                NaN               0                   0   \n",
       "\n",
       "        Deceased  \n",
       "0              0  \n",
       "1              0  \n",
       "2              0  \n",
       "3              0  \n",
       "4              0  \n",
       "...          ...  \n",
       "155353         0  \n",
       "155354         0  \n",
       "155355         0  \n",
       "155356         0  \n",
       "155357         0  \n",
       "\n",
       "[155358 rows x 12 columns]"
      ],
      "text/html": "<div>\n<style scoped>\n    .dataframe tbody tr th:only-of-type {\n        vertical-align: middle;\n    }\n\n    .dataframe tbody tr th {\n        vertical-align: top;\n    }\n\n    .dataframe thead th {\n        text-align: right;\n    }\n</style>\n<table border=\"1\" class=\"dataframe\">\n  <thead>\n    <tr style=\"text-align: right;\">\n      <th></th>\n      <th>Date_of_report</th>\n      <th>Date_of_publication</th>\n      <th>Municipality_code</th>\n      <th>Municipality_name</th>\n      <th>Province</th>\n      <th>Security_region_code</th>\n      <th>Security_region_name</th>\n      <th>Municipal_health_service</th>\n      <th>ROAZ_region</th>\n      <th>Total_reported</th>\n      <th>Hospital_admission</th>\n      <th>Deceased</th>\n    </tr>\n  </thead>\n  <tbody>\n    <tr>\n      <td>0</td>\n      <td>2021-04-12 10:00:00</td>\n      <td>2020-02-27</td>\n      <td>GM0014</td>\n      <td>Groningen</td>\n      <td>Groningen</td>\n      <td>VR01</td>\n      <td>Groningen</td>\n      <td>GGD Groningen</td>\n      <td>Acute Zorgnetwerk Noord Nederland</td>\n      <td>0</td>\n      <td>0</td>\n      <td>0</td>\n    </tr>\n    <tr>\n      <td>1</td>\n      <td>2021-04-12 10:00:00</td>\n      <td>2020-02-27</td>\n      <td>GM0034</td>\n      <td>Almere</td>\n      <td>Flevoland</td>\n      <td>VR25</td>\n      <td>Flevoland</td>\n      <td>GGD Flevoland</td>\n      <td>SpoedZorgNet</td>\n      <td>0</td>\n      <td>0</td>\n      <td>0</td>\n    </tr>\n    <tr>\n      <td>2</td>\n      <td>2021-04-12 10:00:00</td>\n      <td>2020-02-27</td>\n      <td>GM0037</td>\n      <td>Stadskanaal</td>\n      <td>Groningen</td>\n      <td>VR01</td>\n      <td>Groningen</td>\n      <td>GGD Groningen</td>\n      <td>Acute Zorgnetwerk Noord Nederland</td>\n      <td>0</td>\n      <td>0</td>\n      <td>0</td>\n    </tr>\n    <tr>\n      <td>3</td>\n      <td>2021-04-12 10:00:00</td>\n      <td>2020-02-27</td>\n      <td>GM0047</td>\n      <td>Veendam</td>\n      <td>Groningen</td>\n      <td>VR01</td>\n      <td>Groningen</td>\n      <td>GGD Groningen</td>\n      <td>Acute Zorgnetwerk Noord Nederland</td>\n      <td>0</td>\n      <td>0</td>\n      <td>0</td>\n    </tr>\n    <tr>\n      <td>4</td>\n      <td>2021-04-12 10:00:00</td>\n      <td>2020-02-27</td>\n      <td>GM0050</td>\n      <td>Zeewolde</td>\n      <td>Flevoland</td>\n      <td>VR25</td>\n      <td>Flevoland</td>\n      <td>GGD Flevoland</td>\n      <td>SpoedZorgNet</td>\n      <td>0</td>\n      <td>0</td>\n      <td>0</td>\n    </tr>\n    <tr>\n      <td>...</td>\n      <td>...</td>\n      <td>...</td>\n      <td>...</td>\n      <td>...</td>\n      <td>...</td>\n      <td>...</td>\n      <td>...</td>\n      <td>...</td>\n      <td>...</td>\n      <td>...</td>\n      <td>...</td>\n      <td>...</td>\n    </tr>\n    <tr>\n      <td>155353</td>\n      <td>2021-04-12 10:00:00</td>\n      <td>2021-04-12</td>\n      <td>NaN</td>\n      <td>NaN</td>\n      <td>Limburg</td>\n      <td>VR23</td>\n      <td>Limburg-Noord</td>\n      <td>GGD Limburg-Noord</td>\n      <td>Netwerk Acute Zorg Limburg</td>\n      <td>3</td>\n      <td>0</td>\n      <td>0</td>\n    </tr>\n    <tr>\n      <td>155354</td>\n      <td>2021-04-12 10:00:00</td>\n      <td>2021-04-12</td>\n      <td>NaN</td>\n      <td>NaN</td>\n      <td>Limburg</td>\n      <td>VR24</td>\n      <td>Limburg-Zuid</td>\n      <td>GGD Zuid-Limburg</td>\n      <td>Netwerk Acute Zorg Limburg</td>\n      <td>2</td>\n      <td>0</td>\n      <td>0</td>\n    </tr>\n    <tr>\n      <td>155355</td>\n      <td>2021-04-12 10:00:00</td>\n      <td>2021-04-12</td>\n      <td>NaN</td>\n      <td>NaN</td>\n      <td>Zuid-Holland</td>\n      <td>VR15</td>\n      <td>Haaglanden</td>\n      <td>GGD Haaglanden</td>\n      <td>Netwerk Acute Zorg West</td>\n      <td>12</td>\n      <td>0</td>\n      <td>0</td>\n    </tr>\n    <tr>\n      <td>155356</td>\n      <td>2021-04-12 10:00:00</td>\n      <td>2021-04-12</td>\n      <td>NaN</td>\n      <td>NaN</td>\n      <td>Fryslân</td>\n      <td>VR02</td>\n      <td>Fryslân</td>\n      <td>GGD Fryslân</td>\n      <td>Acute Zorgnetwerk Noord Nederland</td>\n      <td>0</td>\n      <td>0</td>\n      <td>0</td>\n    </tr>\n    <tr>\n      <td>155357</td>\n      <td>2021-04-12 10:00:00</td>\n      <td>2021-04-12</td>\n      <td>NaN</td>\n      <td>NaN</td>\n      <td>Noord-Holland</td>\n      <td>VR11</td>\n      <td>Zaanstreek-Waterland</td>\n      <td>GGD Zaanstreek/Waterland</td>\n      <td>NaN</td>\n      <td>0</td>\n      <td>0</td>\n      <td>0</td>\n    </tr>\n  </tbody>\n</table>\n<p>155358 rows × 12 columns</p>\n</div>"
     },
     "metadata": {},
     "execution_count": 6
    }
   ],
   "source": [
    "raw_data[\"daily_cases_municiplaity\"] "
   ]
  }
 ]
}