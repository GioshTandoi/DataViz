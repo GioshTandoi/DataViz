{
 "metadata": {
  "language_info": {
   "codemirror_mode": {
    "name": "ipython",
    "version": 3
   },
   "file_extension": ".py",
   "mimetype": "text/x-python",
   "name": "python",
   "nbconvert_exporter": "python",
   "pygments_lexer": "ipython3",
   "version": "3.7.7"
  },
  "orig_nbformat": 2,
  "kernelspec": {
   "name": "python3",
   "display_name": "Python 3.7.7 64-bit",
   "metadata": {
    "interpreter": {
     "hash": "aee8b7b246df8f9039afb4144a1f6fd8d2ca17a180786b69acc140d282b71a49"
    }
   }
  }
 },
 "nbformat": 4,
 "nbformat_minor": 2,
 "cells": [
  {
   "cell_type": "code",
   "execution_count": 2,
   "metadata": {},
   "outputs": [
    {
     "output_type": "stream",
     "name": "stdout",
     "text": [
      "loading... COVID-19_aantallen_gemeente_cumulatief.csv\n",
      "loading... COVID-19_gehandicaptenzorg.csv\n",
      "loading... COVID-19_uitgevoerde_testen.csv\n",
      "loading... COVID-19_aantallen_gemeente_per_dag.csv\n",
      "loading... COVID-19_ic_opnames.csv\n",
      "loading... COVID-19_verpleeghuizen.csv\n",
      "loading... COVID-19_casus_landelijk.csv\n",
      "loading... COVID-19_rioolwaterdata.csv\n",
      "loading... COVID-19_ziekenhuisopnames.csv\n",
      "loading... COVID-19_gedrag.csv\n",
      "loading... COVID-19_thuiswonend_70plus.csv\n"
     ]
    },
    {
     "output_type": "error",
     "ename": "ValueError",
     "evalue": "unconverted data remains: 20",
     "traceback": [
      "\u001b[0;31m---------------------------------------------------------------------------\u001b[0m",
      "\u001b[0;31mTypeError\u001b[0m                                 Traceback (most recent call last)",
      "\u001b[0;32m/usr/local/lib/python3.7/site-packages/pandas/core/tools/datetimes.py\u001b[0m in \u001b[0;36m_convert_listlike_datetimes\u001b[0;34m(arg, box, format, name, tz, unit, errors, infer_datetime_format, dayfirst, yearfirst, exact)\u001b[0m\n\u001b[1;32m    447\u001b[0m             \u001b[0;32mtry\u001b[0m\u001b[0;34m:\u001b[0m\u001b[0;34m\u001b[0m\u001b[0;34m\u001b[0m\u001b[0m\n\u001b[0;32m--> 448\u001b[0;31m                 \u001b[0mvalues\u001b[0m\u001b[0;34m,\u001b[0m \u001b[0mtz\u001b[0m \u001b[0;34m=\u001b[0m \u001b[0mconversion\u001b[0m\u001b[0;34m.\u001b[0m\u001b[0mdatetime_to_datetime64\u001b[0m\u001b[0;34m(\u001b[0m\u001b[0marg\u001b[0m\u001b[0;34m)\u001b[0m\u001b[0;34m\u001b[0m\u001b[0;34m\u001b[0m\u001b[0m\n\u001b[0m\u001b[1;32m    449\u001b[0m                 \u001b[0;32mreturn\u001b[0m \u001b[0mDatetimeIndex\u001b[0m\u001b[0;34m.\u001b[0m\u001b[0m_simple_new\u001b[0m\u001b[0;34m(\u001b[0m\u001b[0mvalues\u001b[0m\u001b[0;34m,\u001b[0m \u001b[0mname\u001b[0m\u001b[0;34m=\u001b[0m\u001b[0mname\u001b[0m\u001b[0;34m,\u001b[0m \u001b[0mtz\u001b[0m\u001b[0;34m=\u001b[0m\u001b[0mtz\u001b[0m\u001b[0;34m)\u001b[0m\u001b[0;34m\u001b[0m\u001b[0;34m\u001b[0m\u001b[0m\n",
      "\u001b[0;32mpandas/_libs/tslibs/conversion.pyx\u001b[0m in \u001b[0;36mpandas._libs.tslibs.conversion.datetime_to_datetime64\u001b[0;34m()\u001b[0m\n",
      "\u001b[0;31mTypeError\u001b[0m: Unrecognized value type: <class 'str'>",
      "\nDuring handling of the above exception, another exception occurred:\n",
      "\u001b[0;31mValueError\u001b[0m                                Traceback (most recent call last)",
      "\u001b[0;32m<ipython-input-2-893852108f55>\u001b[0m in \u001b[0;36m<module>\u001b[0;34m\u001b[0m\n\u001b[0;32m----> 1\u001b[0;31m \u001b[0;32mfrom\u001b[0m \u001b[0mDashboard\u001b[0m\u001b[0;34m.\u001b[0m\u001b[0mraw_data\u001b[0m \u001b[0;32mimport\u001b[0m \u001b[0mraw_data\u001b[0m\u001b[0;34m\u001b[0m\u001b[0;34m\u001b[0m\u001b[0m\n\u001b[0m",
      "\u001b[0;32m~/Downloads/DataViz/Dashboard/raw_data.py\u001b[0m in \u001b[0;36m<module>\u001b[0;34m\u001b[0m\n\u001b[1;32m     27\u001b[0m     \u001b[0mraw_data\u001b[0m\u001b[0;34m[\u001b[0m\u001b[0mkey\u001b[0m\u001b[0;34m]\u001b[0m \u001b[0;34m=\u001b[0m \u001b[0mpd\u001b[0m\u001b[0;34m.\u001b[0m\u001b[0mread_csv\u001b[0m\u001b[0;34m(\u001b[0m\u001b[0mdata_folder\u001b[0m \u001b[0;34m/\u001b[0m \u001b[0mfile\u001b[0m\u001b[0;34m,\u001b[0m \u001b[0msep\u001b[0m\u001b[0;34m=\u001b[0m\u001b[0;34m\";\"\u001b[0m\u001b[0;34m)\u001b[0m\u001b[0;34m\u001b[0m\u001b[0;34m\u001b[0m\u001b[0m\n\u001b[1;32m     28\u001b[0m \u001b[0;34m\u001b[0m\u001b[0m\n\u001b[0;32m---> 29\u001b[0;31m \u001b[0mpd\u001b[0m\u001b[0;34m.\u001b[0m\u001b[0mto_datetime\u001b[0m\u001b[0;34m(\u001b[0m\u001b[0mraw_data\u001b[0m\u001b[0;34m[\u001b[0m\u001b[0;34m'cases_national'\u001b[0m\u001b[0;34m]\u001b[0m\u001b[0;34m[\u001b[0m\u001b[0;34m'Date_statistics'\u001b[0m\u001b[0;34m]\u001b[0m\u001b[0;34m,\u001b[0m\u001b[0mformat\u001b[0m\u001b[0;34m=\u001b[0m\u001b[0;34m'%d/%m/%y'\u001b[0m\u001b[0;34m)\u001b[0m\u001b[0;34m\u001b[0m\u001b[0;34m\u001b[0m\u001b[0m\n\u001b[0m",
      "\u001b[0;32m/usr/local/lib/python3.7/site-packages/pandas/util/_decorators.py\u001b[0m in \u001b[0;36mwrapper\u001b[0;34m(*args, **kwargs)\u001b[0m\n\u001b[1;32m    206\u001b[0m                 \u001b[0;32melse\u001b[0m\u001b[0;34m:\u001b[0m\u001b[0;34m\u001b[0m\u001b[0;34m\u001b[0m\u001b[0m\n\u001b[1;32m    207\u001b[0m                     \u001b[0mkwargs\u001b[0m\u001b[0;34m[\u001b[0m\u001b[0mnew_arg_name\u001b[0m\u001b[0;34m]\u001b[0m \u001b[0;34m=\u001b[0m \u001b[0mnew_arg_value\u001b[0m\u001b[0;34m\u001b[0m\u001b[0;34m\u001b[0m\u001b[0m\n\u001b[0;32m--> 208\u001b[0;31m             \u001b[0;32mreturn\u001b[0m \u001b[0mfunc\u001b[0m\u001b[0;34m(\u001b[0m\u001b[0;34m*\u001b[0m\u001b[0margs\u001b[0m\u001b[0;34m,\u001b[0m \u001b[0;34m**\u001b[0m\u001b[0mkwargs\u001b[0m\u001b[0;34m)\u001b[0m\u001b[0;34m\u001b[0m\u001b[0;34m\u001b[0m\u001b[0m\n\u001b[0m\u001b[1;32m    209\u001b[0m \u001b[0;34m\u001b[0m\u001b[0m\n\u001b[1;32m    210\u001b[0m         \u001b[0;32mreturn\u001b[0m \u001b[0mwrapper\u001b[0m\u001b[0;34m\u001b[0m\u001b[0;34m\u001b[0m\u001b[0m\n",
      "\u001b[0;32m/usr/local/lib/python3.7/site-packages/pandas/core/tools/datetimes.py\u001b[0m in \u001b[0;36mto_datetime\u001b[0;34m(arg, errors, dayfirst, yearfirst, utc, box, format, exact, unit, infer_datetime_format, origin, cache)\u001b[0m\n\u001b[1;32m    772\u001b[0m                 \u001b[0mresult\u001b[0m \u001b[0;34m=\u001b[0m \u001b[0mresult\u001b[0m\u001b[0;34m.\u001b[0m\u001b[0mtz_localize\u001b[0m\u001b[0;34m(\u001b[0m\u001b[0mtz\u001b[0m\u001b[0;34m)\u001b[0m\u001b[0;34m\u001b[0m\u001b[0;34m\u001b[0m\u001b[0m\n\u001b[1;32m    773\u001b[0m     \u001b[0;32melif\u001b[0m \u001b[0misinstance\u001b[0m\u001b[0;34m(\u001b[0m\u001b[0marg\u001b[0m\u001b[0;34m,\u001b[0m \u001b[0mABCSeries\u001b[0m\u001b[0;34m)\u001b[0m\u001b[0;34m:\u001b[0m\u001b[0;34m\u001b[0m\u001b[0;34m\u001b[0m\u001b[0m\n\u001b[0;32m--> 774\u001b[0;31m         \u001b[0mcache_array\u001b[0m \u001b[0;34m=\u001b[0m \u001b[0m_maybe_cache\u001b[0m\u001b[0;34m(\u001b[0m\u001b[0marg\u001b[0m\u001b[0;34m,\u001b[0m \u001b[0mformat\u001b[0m\u001b[0;34m,\u001b[0m \u001b[0mcache\u001b[0m\u001b[0;34m,\u001b[0m \u001b[0mconvert_listlike\u001b[0m\u001b[0;34m)\u001b[0m\u001b[0;34m\u001b[0m\u001b[0;34m\u001b[0m\u001b[0m\n\u001b[0m\u001b[1;32m    775\u001b[0m         \u001b[0;32mif\u001b[0m \u001b[0;32mnot\u001b[0m \u001b[0mcache_array\u001b[0m\u001b[0;34m.\u001b[0m\u001b[0mempty\u001b[0m\u001b[0;34m:\u001b[0m\u001b[0;34m\u001b[0m\u001b[0;34m\u001b[0m\u001b[0m\n\u001b[1;32m    776\u001b[0m             \u001b[0mresult\u001b[0m \u001b[0;34m=\u001b[0m \u001b[0marg\u001b[0m\u001b[0;34m.\u001b[0m\u001b[0mmap\u001b[0m\u001b[0;34m(\u001b[0m\u001b[0mcache_array\u001b[0m\u001b[0;34m)\u001b[0m\u001b[0;34m\u001b[0m\u001b[0;34m\u001b[0m\u001b[0m\n",
      "\u001b[0;32m/usr/local/lib/python3.7/site-packages/pandas/core/tools/datetimes.py\u001b[0m in \u001b[0;36m_maybe_cache\u001b[0;34m(arg, format, cache, convert_listlike)\u001b[0m\n\u001b[1;32m    154\u001b[0m         \u001b[0munique_dates\u001b[0m \u001b[0;34m=\u001b[0m \u001b[0munique\u001b[0m\u001b[0;34m(\u001b[0m\u001b[0marg\u001b[0m\u001b[0;34m)\u001b[0m\u001b[0;34m\u001b[0m\u001b[0;34m\u001b[0m\u001b[0m\n\u001b[1;32m    155\u001b[0m         \u001b[0;32mif\u001b[0m \u001b[0mlen\u001b[0m\u001b[0;34m(\u001b[0m\u001b[0munique_dates\u001b[0m\u001b[0;34m)\u001b[0m \u001b[0;34m<\u001b[0m \u001b[0mlen\u001b[0m\u001b[0;34m(\u001b[0m\u001b[0marg\u001b[0m\u001b[0;34m)\u001b[0m\u001b[0;34m:\u001b[0m\u001b[0;34m\u001b[0m\u001b[0;34m\u001b[0m\u001b[0m\n\u001b[0;32m--> 156\u001b[0;31m             \u001b[0mcache_dates\u001b[0m \u001b[0;34m=\u001b[0m \u001b[0mconvert_listlike\u001b[0m\u001b[0;34m(\u001b[0m\u001b[0munique_dates\u001b[0m\u001b[0;34m,\u001b[0m \u001b[0;32mTrue\u001b[0m\u001b[0;34m,\u001b[0m \u001b[0mformat\u001b[0m\u001b[0;34m)\u001b[0m\u001b[0;34m\u001b[0m\u001b[0;34m\u001b[0m\u001b[0m\n\u001b[0m\u001b[1;32m    157\u001b[0m             \u001b[0mcache_array\u001b[0m \u001b[0;34m=\u001b[0m \u001b[0mSeries\u001b[0m\u001b[0;34m(\u001b[0m\u001b[0mcache_dates\u001b[0m\u001b[0;34m,\u001b[0m \u001b[0mindex\u001b[0m\u001b[0;34m=\u001b[0m\u001b[0munique_dates\u001b[0m\u001b[0;34m)\u001b[0m\u001b[0;34m\u001b[0m\u001b[0;34m\u001b[0m\u001b[0m\n\u001b[1;32m    158\u001b[0m     \u001b[0;32mreturn\u001b[0m \u001b[0mcache_array\u001b[0m\u001b[0;34m\u001b[0m\u001b[0;34m\u001b[0m\u001b[0m\n",
      "\u001b[0;32m/usr/local/lib/python3.7/site-packages/pandas/core/tools/datetimes.py\u001b[0m in \u001b[0;36m_convert_listlike_datetimes\u001b[0;34m(arg, box, format, name, tz, unit, errors, infer_datetime_format, dayfirst, yearfirst, exact)\u001b[0m\n\u001b[1;32m    449\u001b[0m                 \u001b[0;32mreturn\u001b[0m \u001b[0mDatetimeIndex\u001b[0m\u001b[0;34m.\u001b[0m\u001b[0m_simple_new\u001b[0m\u001b[0;34m(\u001b[0m\u001b[0mvalues\u001b[0m\u001b[0;34m,\u001b[0m \u001b[0mname\u001b[0m\u001b[0;34m=\u001b[0m\u001b[0mname\u001b[0m\u001b[0;34m,\u001b[0m \u001b[0mtz\u001b[0m\u001b[0;34m=\u001b[0m\u001b[0mtz\u001b[0m\u001b[0;34m)\u001b[0m\u001b[0;34m\u001b[0m\u001b[0;34m\u001b[0m\u001b[0m\n\u001b[1;32m    450\u001b[0m             \u001b[0;32mexcept\u001b[0m \u001b[0;34m(\u001b[0m\u001b[0mValueError\u001b[0m\u001b[0;34m,\u001b[0m \u001b[0mTypeError\u001b[0m\u001b[0;34m)\u001b[0m\u001b[0;34m:\u001b[0m\u001b[0;34m\u001b[0m\u001b[0;34m\u001b[0m\u001b[0m\n\u001b[0;32m--> 451\u001b[0;31m                 \u001b[0;32mraise\u001b[0m \u001b[0me\u001b[0m\u001b[0;34m\u001b[0m\u001b[0;34m\u001b[0m\u001b[0m\n\u001b[0m\u001b[1;32m    452\u001b[0m \u001b[0;34m\u001b[0m\u001b[0m\n\u001b[1;32m    453\u001b[0m     \u001b[0;32mif\u001b[0m \u001b[0mresult\u001b[0m \u001b[0;32mis\u001b[0m \u001b[0;32mNone\u001b[0m\u001b[0;34m:\u001b[0m\u001b[0;34m\u001b[0m\u001b[0;34m\u001b[0m\u001b[0m\n",
      "\u001b[0;32m/usr/local/lib/python3.7/site-packages/pandas/core/tools/datetimes.py\u001b[0m in \u001b[0;36m_convert_listlike_datetimes\u001b[0;34m(arg, box, format, name, tz, unit, errors, infer_datetime_format, dayfirst, yearfirst, exact)\u001b[0m\n\u001b[1;32m    414\u001b[0m                 \u001b[0;32mtry\u001b[0m\u001b[0;34m:\u001b[0m\u001b[0;34m\u001b[0m\u001b[0;34m\u001b[0m\u001b[0m\n\u001b[1;32m    415\u001b[0m                     result, timezones = array_strptime(\n\u001b[0;32m--> 416\u001b[0;31m                         \u001b[0marg\u001b[0m\u001b[0;34m,\u001b[0m \u001b[0mformat\u001b[0m\u001b[0;34m,\u001b[0m \u001b[0mexact\u001b[0m\u001b[0;34m=\u001b[0m\u001b[0mexact\u001b[0m\u001b[0;34m,\u001b[0m \u001b[0merrors\u001b[0m\u001b[0;34m=\u001b[0m\u001b[0merrors\u001b[0m\u001b[0;34m\u001b[0m\u001b[0;34m\u001b[0m\u001b[0m\n\u001b[0m\u001b[1;32m    417\u001b[0m                     )\n\u001b[1;32m    418\u001b[0m                     \u001b[0;32mif\u001b[0m \u001b[0;34m\"%Z\"\u001b[0m \u001b[0;32min\u001b[0m \u001b[0mformat\u001b[0m \u001b[0;32mor\u001b[0m \u001b[0;34m\"%z\"\u001b[0m \u001b[0;32min\u001b[0m \u001b[0mformat\u001b[0m\u001b[0;34m:\u001b[0m\u001b[0;34m\u001b[0m\u001b[0;34m\u001b[0m\u001b[0m\n",
      "\u001b[0;32mpandas/_libs/tslibs/strptime.pyx\u001b[0m in \u001b[0;36mpandas._libs.tslibs.strptime.array_strptime\u001b[0;34m()\u001b[0m\n",
      "\u001b[0;31mValueError\u001b[0m: unconverted data remains: 20"
     ]
    }
   ],
   "source": [
    "from Dashboard.raw_data import raw_data"
   ]
  },
  {
   "cell_type": "code",
   "execution_count": 2,
   "metadata": {},
   "outputs": [
    {
     "output_type": "stream",
     "name": "stdout",
     "text": [
      "dict_keys(['aggregated_cases_municipality', 'handicaped', 'tests', 'daily_cases_municiplaity', 'icu', 'nursing_homes', 'cases_national', 'water', 'hospital', 'bahaviour', 'seventy_plus'])\n"
     ]
    }
   ],
   "source": [
    "print(raw_data.keys())"
   ]
  },
  {
   "cell_type": "code",
   "execution_count": 9,
   "metadata": {},
   "outputs": [
    {
     "output_type": "execute_result",
     "data": {
      "text/plain": [
       "                Date_file Date_statistics Date_statistics_type Agegroup  \\\n",
       "0        09/04/2021 10:00      01/01/2020                  DOO    40-49   \n",
       "1        09/04/2021 10:00      01/01/2020                  DOO    50-59   \n",
       "2        09/04/2021 10:00      01/01/2020                  DOO    20-29   \n",
       "3        09/04/2021 10:00      01/01/2020                  DOO    60-69   \n",
       "4        09/04/2021 10:00      04/01/2020                  DOO   Oct/19   \n",
       "...                   ...             ...                  ...      ...   \n",
       "1048570  09/04/2021 10:00      16/02/2021                  DOO    70-79   \n",
       "1048571  09/04/2021 10:00      16/02/2021                  DOO    80-89   \n",
       "1048572  09/04/2021 10:00      16/02/2021                  DOO    80-89   \n",
       "1048573  09/04/2021 10:00      16/02/2021                  DOO    20-29   \n",
       "1048574  09/04/2021 10:00      16/02/2021                  DOO    50-59   \n",
       "\n",
       "            Sex       Province Hospital_admission Deceased  Week_of_death  \\\n",
       "0        Female  Noord-Holland                 No       No            NaN   \n",
       "1          Male     Gelderland                 No       No            NaN   \n",
       "2        Female   Zuid-Holland                 No       No            NaN   \n",
       "3        Female  Noord-Holland                 No       No            NaN   \n",
       "4        Female     Gelderland            Unknown       No            NaN   \n",
       "...         ...            ...                ...      ...            ...   \n",
       "1048570    Male        Utrecht                 No       No            NaN   \n",
       "1048571  Female   Zuid-Holland                 No      Yes       202109.0   \n",
       "1048572  Female   Zuid-Holland                 No       No            NaN   \n",
       "1048573  Female   Zuid-Holland                 No       No            NaN   \n",
       "1048574  Female  Noord-Brabant                 No       No            NaN   \n",
       "\n",
       "                                  Municipal_health_service  \n",
       "0                                            GGD Amsterdam  \n",
       "1        Veiligheids- en Gezondheidsregio Gelderland-Mi...  \n",
       "2                                      GGD Hollands-Midden  \n",
       "3                                     GGD Hollands-Noorden  \n",
       "4                                      GGD Gelderland-Zuid  \n",
       "...                                                    ...  \n",
       "1048570                                  GGD Regio Utrecht  \n",
       "1048571                                GGD Hollands-Midden  \n",
       "1048572                                     GGD Haaglanden  \n",
       "1048573                                     GGD Haaglanden  \n",
       "1048574                               GGD Brabant-Zuidoost  \n",
       "\n",
       "[1048575 rows x 10 columns]"
      ],
      "text/html": "<div>\n<style scoped>\n    .dataframe tbody tr th:only-of-type {\n        vertical-align: middle;\n    }\n\n    .dataframe tbody tr th {\n        vertical-align: top;\n    }\n\n    .dataframe thead th {\n        text-align: right;\n    }\n</style>\n<table border=\"1\" class=\"dataframe\">\n  <thead>\n    <tr style=\"text-align: right;\">\n      <th></th>\n      <th>Date_file</th>\n      <th>Date_statistics</th>\n      <th>Date_statistics_type</th>\n      <th>Agegroup</th>\n      <th>Sex</th>\n      <th>Province</th>\n      <th>Hospital_admission</th>\n      <th>Deceased</th>\n      <th>Week_of_death</th>\n      <th>Municipal_health_service</th>\n    </tr>\n  </thead>\n  <tbody>\n    <tr>\n      <td>0</td>\n      <td>09/04/2021 10:00</td>\n      <td>01/01/2020</td>\n      <td>DOO</td>\n      <td>40-49</td>\n      <td>Female</td>\n      <td>Noord-Holland</td>\n      <td>No</td>\n      <td>No</td>\n      <td>NaN</td>\n      <td>GGD Amsterdam</td>\n    </tr>\n    <tr>\n      <td>1</td>\n      <td>09/04/2021 10:00</td>\n      <td>01/01/2020</td>\n      <td>DOO</td>\n      <td>50-59</td>\n      <td>Male</td>\n      <td>Gelderland</td>\n      <td>No</td>\n      <td>No</td>\n      <td>NaN</td>\n      <td>Veiligheids- en Gezondheidsregio Gelderland-Mi...</td>\n    </tr>\n    <tr>\n      <td>2</td>\n      <td>09/04/2021 10:00</td>\n      <td>01/01/2020</td>\n      <td>DOO</td>\n      <td>20-29</td>\n      <td>Female</td>\n      <td>Zuid-Holland</td>\n      <td>No</td>\n      <td>No</td>\n      <td>NaN</td>\n      <td>GGD Hollands-Midden</td>\n    </tr>\n    <tr>\n      <td>3</td>\n      <td>09/04/2021 10:00</td>\n      <td>01/01/2020</td>\n      <td>DOO</td>\n      <td>60-69</td>\n      <td>Female</td>\n      <td>Noord-Holland</td>\n      <td>No</td>\n      <td>No</td>\n      <td>NaN</td>\n      <td>GGD Hollands-Noorden</td>\n    </tr>\n    <tr>\n      <td>4</td>\n      <td>09/04/2021 10:00</td>\n      <td>04/01/2020</td>\n      <td>DOO</td>\n      <td>Oct/19</td>\n      <td>Female</td>\n      <td>Gelderland</td>\n      <td>Unknown</td>\n      <td>No</td>\n      <td>NaN</td>\n      <td>GGD Gelderland-Zuid</td>\n    </tr>\n    <tr>\n      <td>...</td>\n      <td>...</td>\n      <td>...</td>\n      <td>...</td>\n      <td>...</td>\n      <td>...</td>\n      <td>...</td>\n      <td>...</td>\n      <td>...</td>\n      <td>...</td>\n      <td>...</td>\n    </tr>\n    <tr>\n      <td>1048570</td>\n      <td>09/04/2021 10:00</td>\n      <td>16/02/2021</td>\n      <td>DOO</td>\n      <td>70-79</td>\n      <td>Male</td>\n      <td>Utrecht</td>\n      <td>No</td>\n      <td>No</td>\n      <td>NaN</td>\n      <td>GGD Regio Utrecht</td>\n    </tr>\n    <tr>\n      <td>1048571</td>\n      <td>09/04/2021 10:00</td>\n      <td>16/02/2021</td>\n      <td>DOO</td>\n      <td>80-89</td>\n      <td>Female</td>\n      <td>Zuid-Holland</td>\n      <td>No</td>\n      <td>Yes</td>\n      <td>202109.0</td>\n      <td>GGD Hollands-Midden</td>\n    </tr>\n    <tr>\n      <td>1048572</td>\n      <td>09/04/2021 10:00</td>\n      <td>16/02/2021</td>\n      <td>DOO</td>\n      <td>80-89</td>\n      <td>Female</td>\n      <td>Zuid-Holland</td>\n      <td>No</td>\n      <td>No</td>\n      <td>NaN</td>\n      <td>GGD Haaglanden</td>\n    </tr>\n    <tr>\n      <td>1048573</td>\n      <td>09/04/2021 10:00</td>\n      <td>16/02/2021</td>\n      <td>DOO</td>\n      <td>20-29</td>\n      <td>Female</td>\n      <td>Zuid-Holland</td>\n      <td>No</td>\n      <td>No</td>\n      <td>NaN</td>\n      <td>GGD Haaglanden</td>\n    </tr>\n    <tr>\n      <td>1048574</td>\n      <td>09/04/2021 10:00</td>\n      <td>16/02/2021</td>\n      <td>DOO</td>\n      <td>50-59</td>\n      <td>Female</td>\n      <td>Noord-Brabant</td>\n      <td>No</td>\n      <td>No</td>\n      <td>NaN</td>\n      <td>GGD Brabant-Zuidoost</td>\n    </tr>\n  </tbody>\n</table>\n<p>1048575 rows × 10 columns</p>\n</div>"
     },
     "metadata": {},
     "execution_count": 9
    }
   ],
   "source": [
    "raw_data['cases_national']"
   ]
  },
  {
   "cell_type": "code",
   "execution_count": 5,
   "metadata": {},
   "outputs": [
    {
     "output_type": "stream",
     "name": "stdout",
     "text": [
      "<class 'pandas.core.frame.DataFrame'>\nRangeIndex: 1048575 entries, 0 to 1048574\nData columns (total 10 columns):\nDate_file                   1048575 non-null object\nDate_statistics             1048575 non-null object\nDate_statistics_type        1048575 non-null object\nAgegroup                    1048575 non-null object\nSex                         1048575 non-null object\nProvince                    1048575 non-null object\nHospital_admission          1048575 non-null object\nDeceased                    1048575 non-null object\nWeek_of_death               15806 non-null float64\nMunicipal_health_service    1048575 non-null object\ndtypes: float64(1), object(9)\nmemory usage: 80.0+ MB\n"
     ]
    }
   ],
   "source": [
    "raw_data['cases_national'].info()"
   ]
  },
  {
   "cell_type": "code",
   "execution_count": 6,
   "metadata": {},
   "outputs": [
    {
     "output_type": "execute_result",
     "data": {
      "text/plain": [
       "             Date_of_report Date_of_publication Municipality_code  \\\n",
       "0       2021-04-12 10:00:00          2020-02-27            GM0014   \n",
       "1       2021-04-12 10:00:00          2020-02-27            GM0034   \n",
       "2       2021-04-12 10:00:00          2020-02-27            GM0037   \n",
       "3       2021-04-12 10:00:00          2020-02-27            GM0047   \n",
       "4       2021-04-12 10:00:00          2020-02-27            GM0050   \n",
       "...                     ...                 ...               ...   \n",
       "155353  2021-04-12 10:00:00          2021-04-12               NaN   \n",
       "155354  2021-04-12 10:00:00          2021-04-12               NaN   \n",
       "155355  2021-04-12 10:00:00          2021-04-12               NaN   \n",
       "155356  2021-04-12 10:00:00          2021-04-12               NaN   \n",
       "155357  2021-04-12 10:00:00          2021-04-12               NaN   \n",
       "\n",
       "       Municipality_name       Province Security_region_code  \\\n",
       "0              Groningen      Groningen                 VR01   \n",
       "1                 Almere      Flevoland                 VR25   \n",
       "2            Stadskanaal      Groningen                 VR01   \n",
       "3                Veendam      Groningen                 VR01   \n",
       "4               Zeewolde      Flevoland                 VR25   \n",
       "...                  ...            ...                  ...   \n",
       "155353               NaN        Limburg                 VR23   \n",
       "155354               NaN        Limburg                 VR24   \n",
       "155355               NaN   Zuid-Holland                 VR15   \n",
       "155356               NaN        Fryslân                 VR02   \n",
       "155357               NaN  Noord-Holland                 VR11   \n",
       "\n",
       "        Security_region_name  Municipal_health_service  \\\n",
       "0                  Groningen             GGD Groningen   \n",
       "1                  Flevoland             GGD Flevoland   \n",
       "2                  Groningen             GGD Groningen   \n",
       "3                  Groningen             GGD Groningen   \n",
       "4                  Flevoland             GGD Flevoland   \n",
       "...                      ...                       ...   \n",
       "155353         Limburg-Noord         GGD Limburg-Noord   \n",
       "155354          Limburg-Zuid          GGD Zuid-Limburg   \n",
       "155355            Haaglanden            GGD Haaglanden   \n",
       "155356               Fryslân               GGD Fryslân   \n",
       "155357  Zaanstreek-Waterland  GGD Zaanstreek/Waterland   \n",
       "\n",
       "                              ROAZ_region  Total_reported  Hospital_admission  \\\n",
       "0       Acute Zorgnetwerk Noord Nederland               0                   0   \n",
       "1                            SpoedZorgNet               0                   0   \n",
       "2       Acute Zorgnetwerk Noord Nederland               0                   0   \n",
       "3       Acute Zorgnetwerk Noord Nederland               0                   0   \n",
       "4                            SpoedZorgNet               0                   0   \n",
       "...                                   ...             ...                 ...   \n",
       "155353         Netwerk Acute Zorg Limburg               3                   0   \n",
       "155354         Netwerk Acute Zorg Limburg               2                   0   \n",
       "155355            Netwerk Acute Zorg West              12                   0   \n",
       "155356  Acute Zorgnetwerk Noord Nederland               0                   0   \n",
       "155357                                NaN               0                   0   \n",
       "\n",
       "        Deceased  \n",
       "0              0  \n",
       "1              0  \n",
       "2              0  \n",
       "3              0  \n",
       "4              0  \n",
       "...          ...  \n",
       "155353         0  \n",
       "155354         0  \n",
       "155355         0  \n",
       "155356         0  \n",
       "155357         0  \n",
       "\n",
       "[155358 rows x 12 columns]"
      ],
      "text/html": "<div>\n<style scoped>\n    .dataframe tbody tr th:only-of-type {\n        vertical-align: middle;\n    }\n\n    .dataframe tbody tr th {\n        vertical-align: top;\n    }\n\n    .dataframe thead th {\n        text-align: right;\n    }\n</style>\n<table border=\"1\" class=\"dataframe\">\n  <thead>\n    <tr style=\"text-align: right;\">\n      <th></th>\n      <th>Date_of_report</th>\n      <th>Date_of_publication</th>\n      <th>Municipality_code</th>\n      <th>Municipality_name</th>\n      <th>Province</th>\n      <th>Security_region_code</th>\n      <th>Security_region_name</th>\n      <th>Municipal_health_service</th>\n      <th>ROAZ_region</th>\n      <th>Total_reported</th>\n      <th>Hospital_admission</th>\n      <th>Deceased</th>\n    </tr>\n  </thead>\n  <tbody>\n    <tr>\n      <td>0</td>\n      <td>2021-04-12 10:00:00</td>\n      <td>2020-02-27</td>\n      <td>GM0014</td>\n      <td>Groningen</td>\n      <td>Groningen</td>\n      <td>VR01</td>\n      <td>Groningen</td>\n      <td>GGD Groningen</td>\n      <td>Acute Zorgnetwerk Noord Nederland</td>\n      <td>0</td>\n      <td>0</td>\n      <td>0</td>\n    </tr>\n    <tr>\n      <td>1</td>\n      <td>2021-04-12 10:00:00</td>\n      <td>2020-02-27</td>\n      <td>GM0034</td>\n      <td>Almere</td>\n      <td>Flevoland</td>\n      <td>VR25</td>\n      <td>Flevoland</td>\n      <td>GGD Flevoland</td>\n      <td>SpoedZorgNet</td>\n      <td>0</td>\n      <td>0</td>\n      <td>0</td>\n    </tr>\n    <tr>\n      <td>2</td>\n      <td>2021-04-12 10:00:00</td>\n      <td>2020-02-27</td>\n      <td>GM0037</td>\n      <td>Stadskanaal</td>\n      <td>Groningen</td>\n      <td>VR01</td>\n      <td>Groningen</td>\n      <td>GGD Groningen</td>\n      <td>Acute Zorgnetwerk Noord Nederland</td>\n      <td>0</td>\n      <td>0</td>\n      <td>0</td>\n    </tr>\n    <tr>\n      <td>3</td>\n      <td>2021-04-12 10:00:00</td>\n      <td>2020-02-27</td>\n      <td>GM0047</td>\n      <td>Veendam</td>\n      <td>Groningen</td>\n      <td>VR01</td>\n      <td>Groningen</td>\n      <td>GGD Groningen</td>\n      <td>Acute Zorgnetwerk Noord Nederland</td>\n      <td>0</td>\n      <td>0</td>\n      <td>0</td>\n    </tr>\n    <tr>\n      <td>4</td>\n      <td>2021-04-12 10:00:00</td>\n      <td>2020-02-27</td>\n      <td>GM0050</td>\n      <td>Zeewolde</td>\n      <td>Flevoland</td>\n      <td>VR25</td>\n      <td>Flevoland</td>\n      <td>GGD Flevoland</td>\n      <td>SpoedZorgNet</td>\n      <td>0</td>\n      <td>0</td>\n      <td>0</td>\n    </tr>\n    <tr>\n      <td>...</td>\n      <td>...</td>\n      <td>...</td>\n      <td>...</td>\n      <td>...</td>\n      <td>...</td>\n      <td>...</td>\n      <td>...</td>\n      <td>...</td>\n      <td>...</td>\n      <td>...</td>\n      <td>...</td>\n      <td>...</td>\n    </tr>\n    <tr>\n      <td>155353</td>\n      <td>2021-04-12 10:00:00</td>\n      <td>2021-04-12</td>\n      <td>NaN</td>\n      <td>NaN</td>\n      <td>Limburg</td>\n      <td>VR23</td>\n      <td>Limburg-Noord</td>\n      <td>GGD Limburg-Noord</td>\n      <td>Netwerk Acute Zorg Limburg</td>\n      <td>3</td>\n      <td>0</td>\n      <td>0</td>\n    </tr>\n    <tr>\n      <td>155354</td>\n      <td>2021-04-12 10:00:00</td>\n      <td>2021-04-12</td>\n      <td>NaN</td>\n      <td>NaN</td>\n      <td>Limburg</td>\n      <td>VR24</td>\n      <td>Limburg-Zuid</td>\n      <td>GGD Zuid-Limburg</td>\n      <td>Netwerk Acute Zorg Limburg</td>\n      <td>2</td>\n      <td>0</td>\n      <td>0</td>\n    </tr>\n    <tr>\n      <td>155355</td>\n      <td>2021-04-12 10:00:00</td>\n      <td>2021-04-12</td>\n      <td>NaN</td>\n      <td>NaN</td>\n      <td>Zuid-Holland</td>\n      <td>VR15</td>\n      <td>Haaglanden</td>\n      <td>GGD Haaglanden</td>\n      <td>Netwerk Acute Zorg West</td>\n      <td>12</td>\n      <td>0</td>\n      <td>0</td>\n    </tr>\n    <tr>\n      <td>155356</td>\n      <td>2021-04-12 10:00:00</td>\n      <td>2021-04-12</td>\n      <td>NaN</td>\n      <td>NaN</td>\n      <td>Fryslân</td>\n      <td>VR02</td>\n      <td>Fryslân</td>\n      <td>GGD Fryslân</td>\n      <td>Acute Zorgnetwerk Noord Nederland</td>\n      <td>0</td>\n      <td>0</td>\n      <td>0</td>\n    </tr>\n    <tr>\n      <td>155357</td>\n      <td>2021-04-12 10:00:00</td>\n      <td>2021-04-12</td>\n      <td>NaN</td>\n      <td>NaN</td>\n      <td>Noord-Holland</td>\n      <td>VR11</td>\n      <td>Zaanstreek-Waterland</td>\n      <td>GGD Zaanstreek/Waterland</td>\n      <td>NaN</td>\n      <td>0</td>\n      <td>0</td>\n      <td>0</td>\n    </tr>\n  </tbody>\n</table>\n<p>155358 rows × 12 columns</p>\n</div>"
     },
     "metadata": {},
     "execution_count": 6
    }
   ],
   "source": [
    "raw_data[\"daily_cases_municiplaity\"] "
   ]
  }
 ]
}